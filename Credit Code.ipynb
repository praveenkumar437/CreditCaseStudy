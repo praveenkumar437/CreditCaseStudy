{
 "cells": [
  {
   "cell_type": "code",
   "execution_count": 4,
   "metadata": {},
   "outputs": [
    {
     "name": "stdout",
     "output_type": "stream",
     "text": [
      "             precision    recall  f1-score   support\n",
      "\n",
      "        0.0       0.84      0.94      0.89      7019\n",
      "        1.0       0.65      0.37      0.47      1981\n",
      "\n",
      "avg / total       0.80      0.82      0.80      9000\n",
      "\n",
      "\n",
      "\n",
      "[[6618  401]\n",
      " [1246  735]]\n"
     ]
    }
   ],
   "source": [
    "\"\"\"\n",
    "Created on Tue Mar 30 2018\n",
    "@author: Praveen Kumar Viyyapu\n",
    "\"\"\"\n",
    "import numpy as np\n",
    "import pandas as pd\n",
    "import matplotlib as plt\n",
    "%matplotlib inline \n",
    "\n",
    "#Connecting & Importing data from SQL Server table\n",
    "import pyodbc \n",
    "conn = pyodbc.connect(\"Driver={SQL Server Native Client 11.0};\"\n",
    "                      \"Server=LAPTOP-IEOCN0EI\\SQLEXPRESS;\"\n",
    "                      \"Database=CreditCards;\"\n",
    "                      \"Trusted_Connection=yes;\") \n",
    "\n",
    "#Load data from Sql database \n",
    "df = pd.read_sql_query(\"Select  * from CreditsData;\", conn)\n",
    "\n",
    "#Cleaning data \n",
    "df['MARRIAGE'].replace(0,3,inplace=True)\n",
    "df['EDUCATION'].replace([0,5,6],4,inplace=True)\n",
    "\n",
    "from sklearn.model_selection import train_test_split\n",
    "val = df.values\n",
    "X = val[:,0:23]\n",
    "y = val[:,24]\n",
    "X_train, X_test, y_train, y_test = train_test_split(X, y, test_size = 0.3, random_state = 7)\n",
    "\n",
    "#RandomForest Algorithm\n",
    "from sklearn.ensemble import RandomForestClassifier\n",
    "from sklearn.metrics import classification_report,confusion_matrix\n",
    "\n",
    "rfc=RandomForestClassifier(n_estimators=300)\n",
    "rfc.fit(X_train,y_train)\n",
    "prd = rfc.predict(X_test)\n",
    "\n",
    "print(classification_report(y_test,prd))\n",
    "print('\\n')\n",
    "print (confusion_matrix(y_test,prd))\n"
   ]
  }
 ],
 "metadata": {
  "kernelspec": {
   "display_name": "Python 2",
   "language": "python",
   "name": "python2"
  },
  "language_info": {
   "codemirror_mode": {
    "name": "ipython",
    "version": 2
   },
   "file_extension": ".py",
   "mimetype": "text/x-python",
   "name": "python",
   "nbconvert_exporter": "python",
   "pygments_lexer": "ipython2",
   "version": "2.7.14"
  }
 },
 "nbformat": 4,
 "nbformat_minor": 2
}
